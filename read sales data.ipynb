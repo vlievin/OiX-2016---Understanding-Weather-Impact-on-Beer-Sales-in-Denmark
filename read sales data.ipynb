{
 "cells": [
  {
   "cell_type": "code",
   "execution_count": 1,
   "metadata": {
    "collapsed": false
   },
   "outputs": [
    {
     "name": "stderr",
     "output_type": "stream",
     "text": [
      "/Users/valentin/anaconda/lib/python2.7/site-packages/matplotlib/__init__.py:1035: UserWarning: Duplicate key in file \"/Users/valentin/anaconda/lib/python2.7/site-packages/matplotlib/mpl-data/matplotlibrc\", line #513\n",
      "  (fname, cnt))\n"
     ]
    }
   ],
   "source": [
    "import pandas as pd\n",
    "from datetime import datetime\n",
    "import sys\n",
    "from IPython.display import clear_output"
   ]
  },
  {
   "cell_type": "code",
   "execution_count": 2,
   "metadata": {
    "collapsed": false,
    "scrolled": false
   },
   "outputs": [
    {
     "name": "stdout",
     "output_type": "stream",
     "text": [
      "99%\n",
      "6094460\n"
     ]
    }
   ],
   "source": [
    "date = []\n",
    "chain_store = []\n",
    "store_no = []\n",
    "store_name = []\n",
    "postal_no = []\n",
    "EAN = []\n",
    "Produkttekst = []\n",
    "oms = []\n",
    "volume = []\n",
    "avance = []\n",
    "errors = []\n",
    "with open('RU udtrëk af salg af õl for 2015  - 20161026.csv') as f:\n",
    "    lines = f.readlines()\n",
    "    print(str(len(lines)) + \" lines\")\n",
    "    k = len(lines)/100\n",
    "    j = 0\n",
    "    for l in lines:\n",
    "        #clear_output()\n",
    "        #print j\n",
    "        #print len(splits)\n",
    "        l = l.replace('4,5%' , '4.5%')\n",
    "        l = l.replace('FAKTA,JENS BAGGESENSVEJ' , 'FAKTA - JENS BAGGESENSVEJ')\n",
    "        splits = l.split(',')\n",
    "        if len(splits) == 10:\n",
    "            i = 0\n",
    "        else:\n",
    "            i = 1\n",
    "        date.append(  datetime.strptime(splits[0].replace('\\xef\\xbb\\xbf',''), '%Y-%m-%d') )\n",
    "        chain_store.append(splits[1])\n",
    "        store_no.append(int(splits[2]))\n",
    "        store_name.append(splits[3])\n",
    "        postal_no.append(int(splits[4+i]))\n",
    "        EAN.append(splits[5+i])\n",
    "        Produkttekst.append(splits[6+i])\n",
    "        oms.append(float(splits[7+i]))\n",
    "        volume.append(int(float(splits[8+i])))\n",
    "        avance.append(int(float(splits[9+i][:-4])))\n",
    "\n",
    "        j += 1\n",
    "        if j % k == 0:\n",
    "            clear_output()\n",
    "            print str(int(float(j)/float(len(lines))*100.0)) + '%'\n",
    "\n",
    "df = pd.DataFrame( {'date': date , 'chain_store' : chain_store, 'store_no': store_no, 'store_name':store_name,'postal_no':postal_no,\n",
    "                   'EAN':EAN,'Produkttekst': Produkttekst, 'oms':oms, 'volume':volume, 'avance':avance})\n",
    "df[:10]\n",
    "print(len(df))"
   ]
  },
  {
   "cell_type": "code",
   "execution_count": 4,
   "metadata": {
    "collapsed": false
   },
   "outputs": [],
   "source": [
    "df.to_csv('cleaned_sales_data.csv')"
   ]
  },
  {
   "cell_type": "code",
   "execution_count": null,
   "metadata": {
    "collapsed": true
   },
   "outputs": [],
   "source": []
  }
 ],
 "metadata": {
  "kernelspec": {
   "display_name": "Python 2",
   "language": "python",
   "name": "python2"
  },
  "language_info": {
   "codemirror_mode": {
    "name": "ipython",
    "version": 2
   },
   "file_extension": ".py",
   "mimetype": "text/x-python",
   "name": "python",
   "nbconvert_exporter": "python",
   "pygments_lexer": "ipython2",
   "version": "2.7.12"
  }
 },
 "nbformat": 4,
 "nbformat_minor": 0
}
